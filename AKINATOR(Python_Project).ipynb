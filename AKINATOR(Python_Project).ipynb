{
 "cells": [
  {
   "cell_type": "code",
   "execution_count": 1,
   "id": "a53702bd",
   "metadata": {},
   "outputs": [
    {
     "name": "stdout",
     "output_type": "stream",
     "text": [
      "Requirement already satisfied: requests in c:\\users\\sidha\\anaconda3\\lib\\site-packages (2.29.0)\n",
      "Requirement already satisfied: charset-normalizer<4,>=2 in c:\\users\\sidha\\anaconda3\\lib\\site-packages (from requests) (2.0.4)\n",
      "Requirement already satisfied: idna<4,>=2.5 in c:\\users\\sidha\\anaconda3\\lib\\site-packages (from requests) (3.4)\n",
      "Requirement already satisfied: urllib3<1.27,>=1.21.1 in c:\\users\\sidha\\anaconda3\\lib\\site-packages (from requests) (1.26.16)\n",
      "Requirement already satisfied: certifi>=2017.4.17 in c:\\users\\sidha\\anaconda3\\lib\\site-packages (from requests) (2023.5.7)\n",
      "Requirement already satisfied: PyQt5 in c:\\users\\sidha\\anaconda3\\lib\\site-packages (5.15.7)\n",
      "Requirement already satisfied: PyQt5-sip<13,>=12.11 in c:\\users\\sidha\\anaconda3\\lib\\site-packages (from PyQt5) (12.11.0)\n",
      "Requirement already satisfied: akinator.py in c:\\users\\sidha\\anaconda3\\lib\\site-packages (0.2.4)\n",
      "Requirement already satisfied: nbconvert in c:\\users\\sidha\\anaconda3\\lib\\site-packages (6.5.4)\n",
      "Requirement already satisfied: lxml in c:\\users\\sidha\\anaconda3\\lib\\site-packages (from nbconvert) (4.9.2)\n",
      "Requirement already satisfied: beautifulsoup4 in c:\\users\\sidha\\anaconda3\\lib\\site-packages (from nbconvert) (4.12.2)\n",
      "Requirement already satisfied: bleach in c:\\users\\sidha\\anaconda3\\lib\\site-packages (from nbconvert) (4.1.0)\n",
      "Requirement already satisfied: defusedxml in c:\\users\\sidha\\anaconda3\\lib\\site-packages (from nbconvert) (0.7.1)\n",
      "Requirement already satisfied: entrypoints>=0.2.2 in c:\\users\\sidha\\anaconda3\\lib\\site-packages (from nbconvert) (0.4)\n",
      "Requirement already satisfied: jinja2>=3.0 in c:\\users\\sidha\\anaconda3\\lib\\site-packages (from nbconvert) (3.1.2)\n",
      "Requirement already satisfied: jupyter-core>=4.7 in c:\\users\\sidha\\anaconda3\\lib\\site-packages (from nbconvert) (5.3.0)\n",
      "Requirement already satisfied: jupyterlab-pygments in c:\\users\\sidha\\anaconda3\\lib\\site-packages (from nbconvert) (0.1.2)\n",
      "Requirement already satisfied: MarkupSafe>=2.0 in c:\\users\\sidha\\anaconda3\\lib\\site-packages (from nbconvert) (2.1.1)\n",
      "Requirement already satisfied: mistune<2,>=0.8.1 in c:\\users\\sidha\\anaconda3\\lib\\site-packages (from nbconvert) (0.8.4)\n",
      "Requirement already satisfied: nbclient>=0.5.0 in c:\\users\\sidha\\anaconda3\\lib\\site-packages (from nbconvert) (0.5.13)\n",
      "Requirement already satisfied: nbformat>=5.1 in c:\\users\\sidha\\anaconda3\\lib\\site-packages (from nbconvert) (5.7.0)\n",
      "Requirement already satisfied: packaging in c:\\users\\sidha\\anaconda3\\lib\\site-packages (from nbconvert) (23.0)\n",
      "Requirement already satisfied: pandocfilters>=1.4.1 in c:\\users\\sidha\\anaconda3\\lib\\site-packages (from nbconvert) (1.5.0)\n",
      "Requirement already satisfied: pygments>=2.4.1 in c:\\users\\sidha\\anaconda3\\lib\\site-packages (from nbconvert) (2.15.1)\n",
      "Requirement already satisfied: tinycss2 in c:\\users\\sidha\\anaconda3\\lib\\site-packages (from nbconvert) (1.2.1)\n",
      "Requirement already satisfied: traitlets>=5.0 in c:\\users\\sidha\\anaconda3\\lib\\site-packages (from nbconvert) (5.7.1)\n",
      "Requirement already satisfied: platformdirs>=2.5 in c:\\users\\sidha\\anaconda3\\lib\\site-packages (from jupyter-core>=4.7->nbconvert) (3.10.0)\n",
      "Requirement already satisfied: pywin32>=300 in c:\\users\\sidha\\anaconda3\\lib\\site-packages (from jupyter-core>=4.7->nbconvert) (305.1)\n",
      "Requirement already satisfied: jupyter-client>=6.1.5 in c:\\users\\sidha\\anaconda3\\lib\\site-packages (from nbclient>=0.5.0->nbconvert) (8.1.0)\n",
      "Requirement already satisfied: nest-asyncio in c:\\users\\sidha\\anaconda3\\lib\\site-packages (from nbclient>=0.5.0->nbconvert) (1.5.6)\n",
      "Requirement already satisfied: fastjsonschema in c:\\users\\sidha\\anaconda3\\lib\\site-packages (from nbformat>=5.1->nbconvert) (2.16.2)\n",
      "Requirement already satisfied: jsonschema>=2.6 in c:\\users\\sidha\\anaconda3\\lib\\site-packages (from nbformat>=5.1->nbconvert) (4.17.3)\n",
      "Requirement already satisfied: soupsieve>1.2 in c:\\users\\sidha\\anaconda3\\lib\\site-packages (from beautifulsoup4->nbconvert) (2.4)\n",
      "Requirement already satisfied: six>=1.9.0 in c:\\users\\sidha\\anaconda3\\lib\\site-packages (from bleach->nbconvert) (1.16.0)\n",
      "Requirement already satisfied: webencodings in c:\\users\\sidha\\anaconda3\\lib\\site-packages (from bleach->nbconvert) (0.5.1)\n",
      "Requirement already satisfied: attrs>=17.4.0 in c:\\users\\sidha\\anaconda3\\lib\\site-packages (from jsonschema>=2.6->nbformat>=5.1->nbconvert) (22.1.0)\n",
      "Requirement already satisfied: pyrsistent!=0.17.0,!=0.17.1,!=0.17.2,>=0.14.0 in c:\\users\\sidha\\anaconda3\\lib\\site-packages (from jsonschema>=2.6->nbformat>=5.1->nbconvert) (0.18.0)\n",
      "Requirement already satisfied: python-dateutil>=2.8.2 in c:\\users\\sidha\\anaconda3\\lib\\site-packages (from jupyter-client>=6.1.5->nbclient>=0.5.0->nbconvert) (2.8.2)\n",
      "Requirement already satisfied: pyzmq>=23.0 in c:\\users\\sidha\\anaconda3\\lib\\site-packages (from jupyter-client>=6.1.5->nbclient>=0.5.0->nbconvert) (25.1.0)\n",
      "Requirement already satisfied: tornado>=6.2 in c:\\users\\sidha\\anaconda3\\lib\\site-packages (from jupyter-client>=6.1.5->nbclient>=0.5.0->nbconvert) (6.2)\n"
     ]
    }
   ],
   "source": [
    "!pip install requests\n",
    "!pip install PyQt5\n",
    "!pip install akinator.py\n",
    "!pip install nbconvert"
   ]
  },
  {
   "cell_type": "code",
   "execution_count": 2,
   "id": "5a1e6e71",
   "metadata": {},
   "outputs": [
    {
     "ename": "SystemExit",
     "evalue": "0",
     "output_type": "error",
     "traceback": [
      "An exception has occurred, use %tb to see the full traceback.\n",
      "\u001b[1;31mSystemExit\u001b[0m\u001b[1;31m:\u001b[0m 0\n"
     ]
    },
    {
     "name": "stderr",
     "output_type": "stream",
     "text": [
      "C:\\Users\\sidha\\anaconda3\\Lib\\site-packages\\IPython\\core\\interactiveshell.py:3513: UserWarning: To exit: use 'exit', 'quit', or Ctrl-D.\n",
      "  warn(\"To exit: use 'exit', 'quit', or Ctrl-D.\", stacklevel=1)\n"
     ]
    }
   ],
   "source": [
    "import sys\n",
    "from PyQt5.QtWidgets import QApplication, QWidget, QLabel, QLineEdit, QPushButton, QVBoxLayout\n",
    "from PyQt5.QtGui import QPixmap\n",
    "import requests\n",
    "from akinator import CantGoBackAnyFurther, InvalidAnswer, Akinator, Answer, Theme\n",
    "\n",
    "class AkinatorUI(QWidget):\n",
    "    def __init__(self):\n",
    "        super().__init__()\n",
    "\n",
    "        self.akinator = Akinator(\n",
    "            child_mode=True,\n",
    "            theme=Theme.from_str('characters'),\n",
    "        )\n",
    "\n",
    "        self.question_label = QLabel(self.akinator.start_game())\n",
    "        self.answer_input = QLineEdit()\n",
    "        self.answer_button = QPushButton(\"Answer\")\n",
    "        self.image_label = QLabel()  # Add a QLabel for displaying the image\n",
    "\n",
    "        self.layout_main = QVBoxLayout()\n",
    "        self.layout_main.addWidget(self.question_label)\n",
    "        self.layout_main.addWidget(self.answer_input)\n",
    "        self.layout_main.addWidget(self.answer_button)\n",
    "        self.layout_main.addWidget(self.image_label)  # Add the image label to the layout\n",
    "\n",
    "        self.answer_button.clicked.connect(self.handle_answer)\n",
    "        self.setLayout(self.layout_main)\n",
    "\n",
    "    def handle_answer(self):\n",
    "        answer_text = self.answer_input.text()\n",
    "        if answer_text.lower() == 'back':\n",
    "            try:\n",
    "                self.akinator.back()\n",
    "                self.question_label.setText(f\"Went back to: {self.akinator.question}\")\n",
    "            except CantGoBackAnyFurther:\n",
    "                self.question_label.setText(\"Cannot go back any further!\")\n",
    "        else:\n",
    "            try:\n",
    "                answer_enum = Answer.from_str(answer_text)\n",
    "            except InvalidAnswer:\n",
    "                self.question_label.setText(\"Invalid answer\")\n",
    "            else:\n",
    "                self.akinator.answer(answer_enum)\n",
    "                self.question_label.setText(self.akinator.question)\n",
    "\n",
    "        if self.akinator.progression > 80:\n",
    "            self.show_guess()\n",
    "\n",
    "    def show_guess(self):\n",
    "        guess = self.akinator.win()\n",
    "        if guess:\n",
    "            self.question_label.setText(f\"Name: {guess.name}\\nDescription: {guess.description}\\n\")\n",
    "\n",
    "            # Download the image from URL\n",
    "            response = requests.get(guess.absolute_picture_path)\n",
    "            if response.status_code == 200:\n",
    "                image_data = response.content\n",
    "                pixmap = QPixmap()\n",
    "                pixmap.loadFromData(image_data)\n",
    "                if not pixmap.isNull():\n",
    "                    self.image_label.setPixmap(pixmap)\n",
    "                    self.image_label.setScaledContents(True)\n",
    "                    self.layout_main.setSpacing(10)\n",
    "                    self.adjustSize()\n",
    "                else:\n",
    "                    self.image_label.clear()\n",
    "            else:\n",
    "                self.image_label.clear()\n",
    "        else:\n",
    "            self.image_label.clear()\n",
    "\n",
    "def main():\n",
    "    app = QApplication(sys.argv)\n",
    "    window = AkinatorUI()\n",
    "    window.setWindowTitle(\"Akinator Game\")\n",
    "    window.show()\n",
    "    sys.exit(app.exec_())\n",
    "\n",
    "if __name__ == \"__main__\":\n",
    "    main()\n"
   ]
  },
  {
   "cell_type": "code",
   "execution_count": null,
   "id": "bae4e0e3",
   "metadata": {},
   "outputs": [],
   "source": [
    "---------------------------------------------------------------------------------------------END OF CODE------------------------------------------------------------------------------------------------"
   ]
  }
 ],
 "metadata": {
  "kernelspec": {
   "display_name": "Python 3 (ipykernel)",
   "language": "python",
   "name": "python3"
  },
  "language_info": {
   "codemirror_mode": {
    "name": "ipython",
    "version": 3
   },
   "file_extension": ".py",
   "mimetype": "text/x-python",
   "name": "python",
   "nbconvert_exporter": "python",
   "pygments_lexer": "ipython3",
   "version": "3.11.3"
  }
 },
 "nbformat": 4,
 "nbformat_minor": 5
}
